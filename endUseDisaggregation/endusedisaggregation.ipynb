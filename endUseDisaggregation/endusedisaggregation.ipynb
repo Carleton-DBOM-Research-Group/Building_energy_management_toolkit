{
  "nbformat": 4,
  "nbformat_minor": 0,
  "metadata": {
    "colab": {
      "name": "endusedisaggregation.ipynb",
      "provenance": [],
      "collapsed_sections": []
    },
    "kernelspec": {
      "name": "python3",
      "display_name": "Python 3",
      "language": "python"
    }
  },
  "cells": [
    {
      "cell_type": "code",
      "metadata": {
        "id": "LWETqlyNkSom",
        "colab": {
          "base_uri": "https://localhost:8080/",
          "height": 342
        },
        "outputId": "a8b5678a-ac57-475d-fa4e-c6ed9c15ded5"
      },
      "source": [
        "!pip install geneticalgorithm\n",
        "!pip install ruptures"
      ],
      "execution_count": null,
      "outputs": []
    },
    {
      "cell_type": "code",
      "metadata": {
        "id": "RGzgtjoRhlmZ"
      },
      "source": [
        "import pandas as pd\n",
        "import numpy as np\n",
        "import os\n",
        "from glob import glob\n",
        "from sklearn import preprocessing\n",
        "import matplotlib.pyplot as plt\n",
        "from sklearn.preprocessing import MinMaxScaler\n",
        "from geneticalgorithm import geneticalgorithm as ga\n",
        "import warnings\n",
        "warnings.filterwarnings('ignore')\n",
        "from datetime import date\n",
        "import matplotlib.pyplot as plt\n",
        "from scipy import interpolate\n",
        "from datetime import datetime as dt\n",
        "import ruptures as rpt\n",
        "from scipy.optimize import minimize\n",
        "from scipy.optimize import differential_evolution"
      ],
      "execution_count": null,
      "outputs": []
    },
    {
      "cell_type": "code",
      "execution_count": null,
      "metadata": {},
      "outputs": [],
      "source": [
        "#Specify current directory and input/output paths\n",
        "path = os.getcwd()\n",
        "energy_input_path = path + r'\\sample data\\energy'\n",
        "wifi_input_path = path + r'\\sample data\\wifi'\n",
        "ahu_input_path = path + r'\\sample data\\hvac\\ahu'\n",
        "zone_input_path = path + r'\\sample data\\hvac\\zone'\n",
        "output_path = output_path = path + r'\\output'"
      ]
    },
    {
      "cell_type": "code",
      "metadata": {
        "id": "n6a_3RFpUbIN"
      },
      "source": [
        "# Define Constant Values - Will need to be changed to suit different buildings\n",
        "BLDGE_AREA = 6000 # Building area\n",
        "BLDGE_COOLING = 1 # 1 for chiller, 0 for district cooling\n",
        "device_to_occ = 1.2 # Assumed number of devices per person"
      ],
      "execution_count": null,
      "outputs": []
    },
    {
      "cell_type": "code",
      "metadata": {
        "id": "3Ul1bMKGiU2B",
        "colab": {
          "base_uri": "https://localhost:8080/",
          "height": 391
        },
        "outputId": "c5a4ccfb-495f-4fec-e9ef-c6ae3561ab15"
      },
      "source": [
        "#Read energy data files\n",
        "energy_files = os.listdir(energy_input_path)\n",
        "energy_files_csv = [f for f in energy_files if f[-3:] == 'csv']\n",
        "energy = pd.read_csv(energy_input_path + '\\\\' + energy_files_csv[0])\n",
        "\n",
        "#Read Wi-Fi data files\n",
        "wifi_files = os.listdir(wifi_input_path)\n",
        "wifi_files_csv = [f for f in wifi_files if f[-3:] == 'csv']\n",
        "wifi = pd.DataFrame()\n",
        "for f in wifi_files_csv:\n",
        "    data = pd.read_csv(wifi_input_path + '\\\\' + f, usecols=[1])\n",
        "    wifi = pd.concat([wifi,data],axis=1)\n",
        "wifi['total'] = wifi.sum(axis=1)\n",
        "\n",
        "wifi1 = pd.read_csv(wifi_input_path + '\\\\' + wifi_files_csv[0],index_col=0,parse_dates=True)\n",
        "wifi = wifi.set_index(wifi1.index)\n",
        "wifi = wifi.asfreq('1H')\n",
        "\n",
        "#Collect fraction of active perimeter heating devices in all zones\n",
        "zone_files = os.listdir(zone_input_path)\n",
        "zone_files_csv = [f for f in zone_files if f[-3:] == 'csv']\n",
        "sRad = pd.DataFrame()\n",
        "for f in zone_files_csv:\n",
        "    data = pd.read_csv(zone_input_path + '\\\\' + f, usecols=[4])\n",
        "    sRad = pd.concat([sRad,data],axis=1)\n",
        "    \n",
        "sRad.drop(sRad.tail(1).index,inplace=True) # drop last row of sRad\n",
        "\n",
        "#Collect AHU data\n",
        "ahu_files = os.listdir(ahu_input_path) #Specify the input directory for ahu files\n",
        "ahu_files_csv = [f for f in ahu_files if f[-3:] == 'csv'] #Get names of excel files for ahu files\n",
        "dfs = []\n",
        "num_of_ahus = 0\n",
        "for f in ahu_files_csv:\n",
        "    num_of_ahus += 1\n",
        "    data = pd.read_csv(ahu_input_path + '\\\\' + f) #Specify the sample data for ahu files\n",
        "    if len(data) > 8760:\n",
        "        data.drop(data.tail(len(data)-8760).index,inplace=True)\n",
        "    data = data.rename(columns={data.columns[1]:'tSa'+str(num_of_ahus),data.columns[2]:'tRa'+str(num_of_ahus),data.columns[3]:'tOa'+str(num_of_ahus),data.columns[4]:'pSa'+str(num_of_ahus),data.columns[5]:'sOa'+str(num_of_ahus),data.columns[6]:'sHc'+str(num_of_ahus),data.columns[7]:'sCc'+str(num_of_ahus),data.columns[8]:'sFan'+str(num_of_ahus),data.columns[9]:'tSaSp'+str(num_of_ahus),data.columns[10]:'pSaSp'+str(num_of_ahus)})\n",
        "    dfs.append(data)\n",
        "\n",
        "ahu = pd.concat(dfs,axis=1)"
      ],
      "execution_count": null,
      "outputs": []
    },
    {
      "cell_type": "code",
      "metadata": {
        "id": "NkxPng5AU-qr"
      },
      "source": [
        "#Extract normalized heating/cooling\n",
        "normalized_heating = (energy[energy.columns[3]]-energy[energy.columns[3]].min())/(energy[energy.columns[3]].max()-energy[energy.columns[3]].min())\n",
        "normalized_cooling = (energy[energy.columns[2]]-energy[energy.columns[2]].min())/(energy[energy.columns[2]].max()-energy[energy.columns[2]].min())"
      ],
      "execution_count": null,
      "outputs": []
    },
    {
      "cell_type": "code",
      "metadata": {
        "id": "AzVKJnkgl21Z"
      },
      "source": [
        "#If heat/cool valve position > 0 while heat/cool energy is near zero, set  valve position to zero (no hot/chilled water in pipes to respond to valve opening/closing.\n",
        "for i in range(1,num_of_ahus+1):\n",
        "    ahu['sHc'+str(i)] = ahu['sHc'+str(i)] * (normalized_heating > 0.1)\n",
        "    ahu['sCc'+str(i)] = ahu['sCc'+str(i)] * (normalized_cooling > 0.1)\n",
        "\n",
        "sRad = sRad.multiply(normalized_heating > 0.1 , axis=\"index\")\n",
        "\n",
        "#If AHU not running (supply pressure less than 100 Pa), \n",
        "#heating/cooling valve position makes no impact on the heating/cooling energy consumption\n",
        "for i in range(1,num_of_ahus+1):\n",
        "    ahu['sHc'+str(i)].loc[ahu['pSa'+str(i)] < 100] = 0\n",
        "    ahu['sCc'+str(i)].loc[ahu['pSa'+str(i)] < 100] = 0\n",
        "    ahu['pSa'+str(i)].loc[ahu['pSa'+str(i)] < max(ahu['pSa'+str(i)])/8] = 0"
      ],
      "execution_count": null,
      "outputs": []
    },
    {
      "cell_type": "code",
      "metadata": {
        "id": "gPxraUJyQHTt",
        "colab": {
          "base_uri": "https://localhost:8080/",
          "height": 391
        },
        "outputId": "3e35f76d-33fe-4dba-aa35-3c70cfe6a8d4"
      },
      "source": [
        "data = pd.DataFrame(energy[energy.columns[0]]) #Create new dataframe with same timestamp as energy file\n",
        "\n",
        "for i in range(1,num_of_ahus+1):\n",
        "    data['pSa'+str(i)] = (ahu['pSa'+str(i)]-ahu['pSa'+str(i)].min())/(ahu['pSa'+str(i)].max()-ahu['pSa'+str(i)].min()) #Populate with pSa data from all AHUs\n",
        "    \n",
        "    data['sHc'+str(i)] = ahu['sHc'+str(i)] #Populate with sHc data from all AHUs\n",
        "\n",
        "    data['sCc'+str(i)] = ahu['sCc'+str(i)] #Populate with sCc data from all AHUs\n",
        "\n",
        "\n",
        "data['sRad'] = sRad.mean(axis=1) #Populate with sRad data\n",
        "data['Elec'] = energy[energy.columns[1]]#Populate with electricity data\n",
        "data['Clg'] = energy[energy.columns[2]]#Populate with cooling data\n",
        "data['Htg'] = energy[energy.columns[3]]#Populate with heating data"
      ],
      "execution_count": null,
      "outputs": []
    },
    {
      "cell_type": "code",
      "metadata": {
        "id": "M3CUU7mxAgQ9"
      },
      "source": [
        "occDataStart = min(wifi.index) #Define occupancy data collection start time\n",
        "occDataStop = max(wifi.index) #Define occupancy data collection end time\n",
        "\n",
        "time = pd.to_datetime(energy[energy.columns[0]])\n",
        "start = max(occDataStart,min(time))\n",
        "end = min(occDataStop, max(time))\n",
        "\n",
        "ind = pd.date_range(start, end, freq='1H')\n",
        "\n",
        "if min(wifi.index) > min(time):\n",
        "  ind1 = time>= min(wifi.index)\n",
        "\n",
        "data = data[ind1]"
      ],
      "execution_count": null,
      "outputs": []
    },
    {
      "cell_type": "code",
      "metadata": {
        "id": "0oURJTrtC0m9",
        "colab": {
          "base_uri": "https://localhost:8080/",
          "height": 391
        },
        "outputId": "622f90c4-42d9-498c-c247-bc1ddc8019a3"
      },
      "source": [
        "#Convert wi-fi device count to occupancy\n",
        "occupancy = np.round((wifi['total']-min(wifi['total']))/device_to_occ)\n",
        "occupancy = occupancy[ind]\n",
        "data['occupancy'] = occupancy.values"
      ],
      "execution_count": null,
      "outputs": []
    },
    {
      "cell_type": "code",
      "metadata": {
        "id": "tRADMxYtYx6C",
        "colab": {
          "base_uri": "https://localhost:8080/",
          "height": 33
        },
        "outputId": "ff50377d-8942-4fa5-d743-b22838434ba5"
      },
      "source": [
        "#find change points \n",
        "algo = rpt.Pelt(model= \"rbf\",min_size=200, jump=5).fit(data['Elec'].values)\n",
        "ipt = algo.predict(pen=10)"
      ],
      "execution_count": null,
      "outputs": []
    },
    {
      "cell_type": "code",
      "execution_count": null,
      "metadata": {},
      "outputs": [],
      "source": [
        "# Select columns of ahu heating/cooling coil and supply air pressure\n",
        "x_Htg_list = []\n",
        "for i in range(1,num_of_ahus+1):\n",
        "    x_Htg_list.append('sHc'+str(i))\n",
        "x_Htg_list.append('sRad')\n",
        "\n",
        "x_Clg_list = []\n",
        "for i in range(1,num_of_ahus+1):\n",
        "    x_Clg_list.append('sCc'+str(i))\n",
        "\n",
        "x_Elec_list = []\n",
        "x_Elec_list.append('occupancy')\n",
        "for i in range(1,num_of_ahus+1):\n",
        "    x_Elec_list.append('pSa'+str(i))"
      ]
    },
    {
      "cell_type": "code",
      "metadata": {
        "id": "-ocIeYo3H0Gv",
        "colab": {
          "base_uri": "https://localhost:8080/",
          "height": 33
        },
        "outputId": "fa11c028-05a6-414a-e011-d86aa1f3c60f"
      },
      "source": [
        "x_Htg = data[x_Htg_list]\n",
        "y_Htg = data[['Htg']]\n",
        "\n",
        "x_Clg = data[x_Clg_list]\n",
        "y_Clg = data[['Clg']]\n",
        "if BLDGE_COOLING == 1:\n",
        "   ix = [i for i in list(range(data.index[0],data.index[0]+ipt[0])) + list(range(data.index[0]+ipt[5],data.index[-1]))]  \n",
        "   x_Elec = data.loc[ix, x_Elec_list]\n",
        "   y_Elec = data.loc[ix, 'Elec']\n",
        "\n",
        "else: \n",
        "    x_Elec = data[x_Elec_list]\n",
        "    y_Elec = data[['Elec']]\n"
      ],
      "execution_count": null,
      "outputs": []
    },
    {
      "cell_type": "code",
      "metadata": {
        "id": "gKSV6Fc9qxFB"
      },
      "source": [
        "#Create function for cooling, heating, and electricity load disaggregation models\n",
        "\n",
        "def rmse_ElecMdl(x): #Electricity disagg model\n",
        "  h = 0\n",
        "  predictors = x_Elec\n",
        "  response = y_Elec\n",
        "  for i in range(predictors.shape[1]-1):\n",
        "    h = x[i+1]*predictors.iloc[:,i+1] + h\n",
        "\n",
        "  h = h + x[0]*predictors.iloc[:,0] + x[i+2]\n",
        "  return np.sqrt(((response - h) ** 2).mean())\n",
        "\n",
        "def rmse_HtgMdl(x): #Heating disagg model\n",
        "  h = 0\n",
        "  predictors =data[x_Htg_list]\n",
        "  response =data['Htg']\n",
        "  for i in range(predictors.shape[1]-1):\n",
        "    h = x[i]*predictors.iloc[:,i] + h\n",
        "    \n",
        "  h = h + x[i+1]*predictors.iloc[:,i+1] + x[i+2]\n",
        "  return np.sqrt(((response - h) ** 2).mean())\n",
        "\n",
        "def rmse_ClgMdl(x): #Cooling disagg model\n",
        "  predictors=data[x_Clg_list]\n",
        "  response=data['Clg']\n",
        "  h = 0\n",
        "  for i in range(predictors.shape[1]):\n",
        "    h = x[i]*predictors.iloc[:,i] + h\n",
        "  \n",
        "  return np.sqrt(((response - h) ** 2).mean())\n"
      ],
      "execution_count": null,
      "outputs": []
    },
    {
      "cell_type": "code",
      "metadata": {
        "id": "mJgLlXCYpF0x",
        "colab": {
          "base_uri": "https://localhost:8080/",
          "height": 66
        },
        "outputId": "1b2970d0-96e5-41ca-a7d0-bd84b5de2dd7"
      },
      "source": [
        "#Setting up parameters for genetic algorithm\n",
        "algorithm_param = {'max_num_iteration': 10,\\\n",
        "                   'population_size':10000,\\\n",
        "                   'mutation_probability':0.1,\\\n",
        "                   'elit_ratio': 0.01,\\\n",
        "                   'crossover_probability': 0.5,\\\n",
        "                   'parents_portion': 0.3,\\\n",
        "                   'crossover_type':'uniform',\\\n",
        "                   'max_iteration_without_improv':None}\n",
        "\n",
        "limits = [[0,200]] #Limit for multiplier for the occupancy-driven component of electricity\n",
        "for i in range(1,num_of_ahus+1): #For every AHU, add another upper/lower bound [0,100], multiplier for i'th ahu fan\n",
        "    limits.append([0,100]) # limit for the constant electricity (background plug load and lighting)\n",
        "limits.append([0,BLDGE_AREA*20/1000])\n",
        "\n",
        "varbound = np.array(limits)\n",
        "\n",
        "model_Elec_GA = ga(function=rmse_ElecMdl,\n",
        "                    dimension=2+num_of_ahus, # This needs to be changed to 2 + # of AHUs\n",
        "                    variable_type='real',\n",
        "                    variable_boundaries=varbound,\n",
        "                    algorithm_parameters=algorithm_param)\n",
        "\n",
        "model_Elec_GA.run()\n"
      ],
      "execution_count": null,
      "outputs": []
    },
    {
      "cell_type": "code",
      "metadata": {
        "id": "iJFziLyUpJr_"
      },
      "source": [
        "#rmse_HtgMdl([1.2879,1.5583,0,0])\n",
        "\n",
        "limits = []\n",
        "for i in range(1,num_of_ahus+1): #For every AHU, add another upper/lower bound [0,10],multiplier for i'th ahu heating coil\n",
        "    limits.append([0,10])\n",
        "limits.append([0,10]) #limits for multiplier for perimeter heating devices\n",
        "limits.append([0,BLDGE_AREA*2/1000]) #limits for the constant heating use (to account for hot water heating)\n",
        "\n",
        "varbound = np.array(limits)\n",
        "\n",
        "model_Htg_GA=ga(function=rmse_HtgMdl,\n",
        "                dimension=2+num_of_ahus, # This needs to be changed to 2 + # of AHUs\n",
        "                variable_type='real',\n",
        "                variable_boundaries=varbound,\n",
        "                algorithm_parameters=algorithm_param)\n",
        "\n",
        "model_Htg_GA.run()"
      ],
      "execution_count": null,
      "outputs": []
    },
    {
      "cell_type": "code",
      "metadata": {
        "id": "jIcMVxg54Sbw"
      },
      "source": [
        "varbound=np.array([[0,10]]*num_of_ahus) #limits for multiplier for i'th ahu cooling coil\n",
        "\n",
        "model_Clg_GA=ga(function=rmse_ClgMdl,\n",
        "                dimension=num_of_ahus, # This needs to be changed to # of AHUs\n",
        "                variable_type='real',\n",
        "                variable_boundaries=varbound,\n",
        "                algorithm_parameters=algorithm_param)\n",
        "\n",
        "model_Clg_GA.run()"
      ],
      "execution_count": null,
      "outputs": []
    },
    {
      "cell_type": "code",
      "metadata": {
        "id": "Bbfq4tegAq91",
        "colab": {
          "base_uri": "https://localhost:8080/",
          "height": 212
        },
        "outputId": "e8523ff4-2891-48a6-b40d-7337a0fe8802"
      },
      "source": [
        "#Extract estimated parameter from genetic algorithm\n",
        "prmtr_Clg = model_Clg_GA.best_variable\n",
        "rmse_Clg = model_Clg_GA.best_function\n",
        "\n",
        "prmtr_Htg =model_Htg_GA.best_variable\n",
        "rmse_Htg = model_Htg_GA.best_function\n",
        "\n",
        "prmtr_Elec = model_Elec_GA.best_variable\n",
        "rmse_Elec = model_Elec_GA.best_function"
      ],
      "execution_count": null,
      "outputs": []
    },
    {
      "cell_type": "code",
      "metadata": {
        "id": "ovJQQJDdNizs",
        "colab": {
          "base_uri": "https://localhost:8080/",
          "height": 212
        },
        "outputId": "4fefb255-da7e-4ff8-de7a-a657d106c65b"
      },
      "source": [
        "electricity_distribution = pd.DataFrame()\n",
        "for i in range(1,num_of_ahus+1):\n",
        "    electricity_distribution = pd.concat([electricity_distribution,(data['pSa'+str(i)]*prmtr_Elec[i])], axis=1)\n",
        "\n",
        "electricity_distribution = electricity_distribution.sum(axis=1)"
      ],
      "execution_count": null,
      "outputs": []
    },
    {
      "cell_type": "code",
      "metadata": {
        "id": "SDN8Tuyhppzw",
        "colab": {
          "base_uri": "https://localhost:8080/",
          "height": 33
        },
        "outputId": "c5c8d7c4-e5ca-4a28-d603-2fb6ca2e32be"
      },
      "source": [
        "electricity_occupant = data.loc[:,['occupancy']] * prmtr_Elec[0] + prmtr_Elec[-1]\n",
        "\n",
        "if BLDGE_COOLING == 1:\n",
        "  electricity_chiller = data['Elec'] - electricity_distribution -electricity_occupant['occupancy']\n",
        "  electricity_chiller.loc[electricity_chiller < max(electricity_chiller)/10] = 0"
      ],
      "execution_count": null,
      "outputs": []
    },
    {
      "cell_type": "code",
      "execution_count": null,
      "metadata": {},
      "outputs": [],
      "source": [
        "heating_ahu = pd.DataFrame()\n",
        "for i in range(1,num_of_ahus+1):\n",
        "    heating_ahu = pd.concat([heating_ahu,(x_Htg['sHc'+str(i)]*prmtr_Htg[i-1])], axis=1)"
      ]
    },
    {
      "cell_type": "code",
      "metadata": {
        "id": "IOjh_Cg1CXpQ",
        "colab": {
          "base_uri": "https://localhost:8080/",
          "height": 391
        },
        "outputId": "db1e2687-63e8-462c-c87d-73fa64d657e7"
      },
      "source": [
        "heating_perimeter = prmtr_Htg[-2] * x_Htg.loc[:,['sRad']]\n",
        "heating_other = prmtr_Htg[-1] *np.ones(x_Htg['sHc1'].shape)"
      ],
      "execution_count": null,
      "outputs": []
    },
    {
      "cell_type": "code",
      "metadata": {
        "id": "rBTT87EGxCKt",
        "colab": {
          "base_uri": "https://localhost:8080/",
          "height": 33
        },
        "outputId": "b2c1279c-3681-4b60-ce7b-6f08ec44878c"
      },
      "source": [
        "cooling_ahu = pd.DataFrame()\n",
        "for i in range(1,num_of_ahus+1):\n",
        "    cooling_ahu = pd.concat([cooling_ahu,(x_Clg['sCc'+str(i)]*prmtr_Clg[i-1])], axis=1)"
      ],
      "execution_count": null,
      "outputs": []
    },
    {
      "cell_type": "code",
      "execution_count": null,
      "metadata": {},
      "outputs": [],
      "source": [
        "data[data.columns[0]] = pd.to_datetime(data[data.columns[0]]) #Convert 'Timestamp' column of dataframe to datetime"
      ]
    },
    {
      "cell_type": "code",
      "metadata": {
        "id": "xiX3dOsm4nBa",
        "colab": {
          "base_uri": "https://localhost:8080/",
          "height": 33
        },
        "outputId": "00ab3559-4f84-4a97-93b7-34e41adb890a"
      },
      "source": [
        "data['week_of_year'] = data[data.columns[0]].apply(lambda x: x.weekofyear)\n",
        "data['Week_Number'] = data[data.columns[0]].dt.week #Assign a week number to each data point"
      ],
      "execution_count": null,
      "outputs": []
    },
    {
      "cell_type": "code",
      "metadata": {
        "id": "SqIm16w-FDdu",
        "colab": {
          "base_uri": "https://localhost:8080/",
          "height": 420
        },
        "outputId": "2ff8ab7a-5d52-4449-c676-8b1900b3fcfa"
      },
      "source": [
        "# Calculate EUIs of end uses as KPIs\n",
        "kpi_electricity_chiller = electricity_chiller.sum()/BLDGE_AREA\n",
        "kpi_electricity_distribution = electricity_distribution.sum()/BLDGE_AREA\n",
        "kpi_electricity_occupant = electricity_occupant[electricity_occupant.columns[0]].sum()/BLDGE_AREA\n",
        "    \n",
        "kpi_heating_other = heating_other.sum()/BLDGE_AREA\n",
        "kpi_heating_ahu = heating_ahu.sum()/BLDGE_AREA\n",
        "kpi_heating_perimeter = heating_perimeter[heating_perimeter.columns[0]].sum()/BLDGE_AREA\n",
        "    \n",
        "kpi_cooling_ahu = cooling_ahu.sum()/BLDGE_AREA\n",
        "\n",
        "#Export an excel sheet with KPIs\n",
        "d_elec = {'End-uses': ['Fans & pumps','Lighting & plug loads','Chillers'],\n",
        "     'Total annual EUI (kWh/m2)': [kpi_electricity_distribution, kpi_electricity_occupant,kpi_electricity_chiller]}\n",
        "\n",
        "d_htg = {'End-uses': ['Perimeter heating','Heating coils (per AHU)','Other'],\n",
        "     'Total annual EUI (kWh/m2)': [kpi_heating_perimeter,kpi_heating_ahu.values,kpi_heating_other]}\n",
        "\n",
        "d_clg = {'End-uses': ['Cooling coils (per AHU)'],\n",
        "     'Total annual EUI (kWh/m2)': [kpi_cooling_ahu.values]}\n",
        "\n",
        "elec_kpi_df = pd.DataFrame(data=d_elec)\n",
        "htg_kpi_df = pd.DataFrame(data=d_htg)\n",
        "clg_kpi_df = pd.DataFrame(data=d_clg)\n",
        "\n",
        "writer = pd.ExcelWriter(output_path + r'\\endUseDisagg_summary.xlsx', engine='xlsxwriter')\n",
        "elec_kpi_df.to_excel(writer, sheet_name='Electricity')\n",
        "htg_kpi_df.to_excel(writer, sheet_name='Heating')\n",
        "clg_kpi_df.to_excel(writer, sheet_name='Cooling')\n",
        "writer.save()\n",
        " "
      ],
      "execution_count": null,
      "outputs": []
    },
    {
      "cell_type": "code",
      "metadata": {
        "id": "GJI66brBuxDy",
        "colab": {
          "base_uri": "https://localhost:8080/",
          "height": 391
        },
        "outputId": "aa51aff8-8462-4195-e9de-f193e93ce4c1"
      },
      "source": [
        "disagg_Elect= pd.DataFrame()\n",
        "disagg_Elect['electricity_distribution'] = electricity_distribution\n",
        "disagg_Elect['electricity_occupant'] = electricity_occupant\n",
        "disagg_Elect['electricity_chiller'] = electricity_chiller\n",
        "\n",
        "disagg_Elect.index = data[data.columns[0]]\n",
        "\n",
        "disagg_Elect['weekofyear'] = disagg_Elect.index.weekofyear\n",
        "disagg_Elect['weekofyear'].loc[disagg_Elect['weekofyear'] == 1] = 53"
      ],
      "execution_count": null,
      "outputs": []
    },
    {
      "cell_type": "code",
      "metadata": {
        "id": "E3jY0hs6zIOy",
        "colab": {
          "base_uri": "https://localhost:8080/",
          "height": 391
        },
        "outputId": "c361e49a-3a40-43d7-ae64-e7f77bb826ea"
      },
      "source": [
        "disagg_Htg = pd.DataFrame()\n",
        "disagg_Htg['heating_other'] = heating_other\n",
        "disagg_Htg['heating_perimeter'] = heating_perimeter.values\n",
        "\n",
        "for i in range(1,num_of_ahus+1):\n",
        "    disagg_Htg['heating_ahu'+str(i)] = heating_ahu['sHc'+str(i)].values\n",
        "\n",
        "disagg_Htg['weekofyear'] = data['Week_Number'].values\n",
        "disagg_Htg['weekofyear'].loc[disagg_Htg['weekofyear'] == 1] = 53"
      ],
      "execution_count": null,
      "outputs": []
    },
    {
      "cell_type": "code",
      "metadata": {
        "id": "68JjqPRKbt7X"
      },
      "source": [
        "disagg_Clg = pd.DataFrame()\n",
        "for i in range(1,num_of_ahus+1):\n",
        "    disagg_Clg['cooling_ahu'+str(i)] = cooling_ahu['sCc'+str(i)]\n",
        "\n",
        "disagg_Clg['weekofyear'] = data['Week_Number'].values\n",
        "disagg_Clg['weekofyear'].loc[disagg_Clg['weekofyear'] == 1] = 53"
      ],
      "execution_count": null,
      "outputs": []
    },
    {
      "cell_type": "code",
      "execution_count": null,
      "metadata": {},
      "outputs": [],
      "source": [
        "weeklyElecIntensity =[]\n",
        "weeklyHtgIntensity = []\n",
        "weeklyClgIntensity = []\n",
        "for i in range(min(disagg_Elect['weekofyear']),max(disagg_Elect['weekofyear'])+1):\n",
        "  if BLDGE_COOLING == 1:\n",
        "    a1 = disagg_Elect['electricity_distribution'].loc[disagg_Elect['weekofyear'] == i]\n",
        "    a2 = disagg_Elect['electricity_occupant'].loc[disagg_Elect['weekofyear'] == i]\n",
        "    a3 = disagg_Elect['electricity_chiller'].loc[disagg_Elect['weekofyear']==i]\n",
        "    a = pd.DataFrame()\n",
        "    a['a1']=a1\n",
        "    a['a2']=a2\n",
        "    a['a3']=a3\n",
        "    a = np.sum(a)/BLDGE_AREA\n",
        "    weeklyElecIntensity.append(a.values)\n",
        "\n",
        "  else:\n",
        "      a1 = disagg_Elect['electricity_distribution'].loc[disagg_Elect['weekofyear'] == i]\n",
        "      a2 = disagg_Elect['electricity_occupant'].loc[disagg_Elect['weekofyear'] == i]\n",
        "      a = pd.DataFrame()\n",
        "      a['a1']=a1\n",
        "      a['a2']=a2\n",
        "      a = np.sum(a)/BLDGE_AREA\n",
        "      weeklyElecIntensity = [weeklyElecIntensity,a]\n",
        "    \n",
        "  a = pd.DataFrame()\n",
        "  for j in range(1,num_of_ahus+1):\n",
        "    a['a'+str(j)] = disagg_Clg['cooling_ahu'+str(j)].loc[disagg_Clg['weekofyear']==i]\n",
        "  \n",
        "  a = np.sum(a)/BLDGE_AREA\n",
        "  weeklyClgIntensity.append(a.values)\n",
        "\n",
        "  a= pd.DataFrame()\n",
        "  a['a1'] = disagg_Htg['heating_other'].loc[disagg_Htg['weekofyear'] == i]\n",
        "  a['a2'] = disagg_Htg['heating_perimeter'].loc[disagg_Htg['weekofyear']==i]\n",
        "  for j in range(1,num_of_ahus+1):\n",
        "    a['a'+str(j+2)] = disagg_Htg['heating_ahu'+str(j)].loc[disagg_Htg['weekofyear']==i]\n",
        "  \n",
        "  a = np.sum(a)/BLDGE_AREA\n",
        "  weeklyHtgIntensity.append(a.values)\n"
      ]
    },
    {
      "cell_type": "code",
      "execution_count": null,
      "metadata": {},
      "outputs": [],
      "source": [
        "#Create subplots\n",
        "\n",
        "index=pd.date_range(start='2019/04/21', end='2019/12/31',freq='w')\n",
        "week=index.weekofyear+1\n",
        "\n",
        "plt.figure(figsize=(18,6))\n",
        "\n",
        "plt.subplot(131)\n",
        "weeklyElecIntensity = pd.DataFrame(weeklyElecIntensity, index=week)\n",
        "plt.stackplot(week,weeklyElecIntensity.iloc[:, 0:3].T)\n",
        "plt.xlim(0,52)\n",
        "plt.xticks(fontsize=18)\n",
        "plt.yticks(fontsize=18)\n",
        "plt.xlabel('Week of year',fontsize = 22)\n",
        "plt.ylabel(\"Electricity (kW/$m^{2}$)\", fontsize= 22)\n",
        "plt.legend((\"Fans & pumps\",\"Lighting & plug loads\",\"Chillers\"), loc='upper center', bbox_to_anchor=(0.5, 1.25), ncol=2, prop={\"size\":17})\n",
        "\n",
        "plt.subplot(132)\n",
        "weeklyClgIntensity = pd.DataFrame(weeklyClgIntensity, index=week)\n",
        "plt.stackplot(week,weeklyClgIntensity.iloc[:, 0:2].T)\n",
        "plt.xlim(0,52)\n",
        "plt.xticks(fontsize=18)\n",
        "plt.yticks(fontsize=18)\n",
        "plt.xlabel('Week of year',fontsize = 22)\n",
        "plt.ylabel(\"Cooling (kW/$m^{2}$)\", fontsize= 22)\n",
        "ahu_legend_labels = []\n",
        "for i in range(1,num_of_ahus+1):\n",
        "    ahu_legend_labels.append('AHU '+str(i))\n",
        "plt.legend(ahu_legend_labels, loc='upper center', bbox_to_anchor=(0.5, 1.16+0.09*((num_of_ahus//2)-1)), ncol=2, prop={\"size\":17})\n",
        "\n",
        "plt.subplot(133)\n",
        "weeklyHtgIntensity = pd.DataFrame(weeklyHtgIntensity, index=week)\n",
        "plt.stackplot(week,weeklyHtgIntensity.iloc[:, 0:4].T)\n",
        "plt.xlim(0,52)\n",
        "plt.xticks(fontsize=18)\n",
        "plt.yticks(fontsize=18)\n",
        "plt.xlabel('Week of year',fontsize = 22)\n",
        "plt.ylabel(\"Heating (kW/$m^{2}$)\", fontsize= 22)\n",
        "ahu_legend_labels = ['Hot water','Perimeter heating']\n",
        "for i in range(1,num_of_ahus+1):\n",
        "    ahu_legend_labels.append('AHU '+str(i))\n",
        "plt.legend(ahu_legend_labels,loc='upper center', bbox_to_anchor=(0.5, 1.16+0.09*(((2+num_of_ahus)//2)-1)), ncol=2, prop={\"size\":17})\n",
        "\n",
        "plt.tight_layout()\n",
        "plt.savefig(output_path + r'\\endUseDisaggregation.png',dpi=600)\n"
      ]
    },
    {
      "cell_type": "code",
      "execution_count": null,
      "metadata": {},
      "outputs": [],
      "source": []
    }
  ]
}